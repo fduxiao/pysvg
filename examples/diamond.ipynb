{
 "cells": [
  {
   "cell_type": "code",
   "execution_count": 2,
   "metadata": {},
   "outputs": [],
   "source": [
    "from IPython import display as dis\n",
    "def display(obj):\n",
    "    dis.display(dis.SVG(str(obj)))"
   ]
  },
  {
   "cell_type": "code",
   "execution_count": 6,
   "metadata": {},
   "outputs": [
    {
     "name": "stdout",
     "output_type": "stream",
     "text": [
      "<svg width=\"400\" height=\"400\" \n",
      "        version=\"1.1\" \n",
      "        xmlns=\"http://www.w3.org/2000/svg\">\n",
      "\n",
      "        \n",
      "</svg>\n"
     ]
    }
   ],
   "source": [
    "from pysvg import *\n",
    "from math import sqrt\n",
    "\n",
    "MWIDTH = 400\n",
    "D = 10\n",
    "BASE = D/2\n",
    "COUNT = MWIDTH / BASE\n",
    "RADIUS = D * sqrt(2)\n",
    "COLOR = \"#11337C\"\n",
    "\n",
    "arm1 = MWIDTH / 4 - D / 2 - D\n",
    "arm2 = arm1 - D\n",
    "arm3 = arm2 - D\n",
    "\n",
    "diamond = SVG(width=MWIDTH, height=MWIDTH)\n",
    "print(diamond)"
   ]
  },
  {
   "cell_type": "code",
   "execution_count": 7,
   "metadata": {},
   "outputs": [
    {
     "data": {
      "image/svg+xml": [
       "<svg height=\"400\" version=\"1.1\" width=\"400\" xmlns=\"http://www.w3.org/2000/svg\">\n",
       "\n",
       "        \n",
       "        <path d=\"     M 200.0 0      l -75.0 75.0     c -10 10 -10 30 0 40     l 65.0 65.0     l -5.0 5.0 10 10 5.0 -5.0     l 0 -20 -65.0 -65.0     c -5.0 -5.0 -5.0 -15.0 0 -20     l 65.0 -65.0     Z \" style=\"fill:#11337C;\"/>\n",
       "        \n",
       "\n",
       "        <path d=\"     M 200.0 0      l 75.0 75.0     c 10 10 10 30 0 40     l -65.0 65.0     l 5.0 5.0 -10 10 -5.0 -5.0     l 0 -20 65.0 -65.0     c 5.0 -5.0 5.0 -15.0 0 -20     l -65.0 -65.0     Z \" style=\"fill:#11337C;\"/>\n",
       "        \n",
       "\n",
       "</svg>"
      ],
      "text/plain": [
       "<IPython.core.display.SVG object>"
      ]
     },
     "metadata": {},
     "output_type": "display_data"
    }
   ],
   "source": [
    "# up\n",
    "diamond.add_shape(Shape('path', d=f\"\"\"\n",
    "    M {MWIDTH/2} 0 \n",
    "    l {-arm2} {arm2}\n",
    "    c {-D} {D} {0-D} {4*D-D} {0} {4*D}\n",
    "    l {arm3} {arm3}\n",
    "    l {-D/2} {D/2} {D} {D} {D/2} {-D/2}\n",
    "    l {0} {-2*D} {-arm3} {-arm3}\n",
    "    c {-D/2} {-D/2} {0-D/2} {-2*D+D/2} {0} {-2*D}\n",
    "    l {arm3} {-arm3}\n",
    "    Z\n",
    "\"\"\", style=Style(fill=COLOR)))\n",
    "\n",
    "diamond.add_shape(Shape('path', d=f\"\"\"\n",
    "    M {MWIDTH/2} 0 \n",
    "    l {arm2} {arm2}\n",
    "    c {D} {D} {0+D} {4*D-D} {0} {4*D}\n",
    "    l {-arm3} {arm3}\n",
    "    l {D/2} {D/2} {-D} {D} {-D/2} {-D/2}\n",
    "    l {0} {-2*D} {arm3} {-arm3}\n",
    "    c {D/2} {-D/2} {0+D/2} {-2*D+D/2} {0} {-2*D}\n",
    "    l {-arm3} {-arm3}\n",
    "    Z\n",
    "\"\"\", style=Style(fill=COLOR)))\n",
    "display(diamond)\n"
   ]
  },
  {
   "cell_type": "code",
   "execution_count": 8,
   "metadata": {},
   "outputs": [
    {
     "data": {
      "image/svg+xml": [
       "<svg height=\"400\" version=\"1.1\" width=\"400\" xmlns=\"http://www.w3.org/2000/svg\">\n",
       "\n",
       "        \n",
       "        <path d=\"     M 200.0 0      l -75.0 75.0     c -10 10 -10 30 0 40     l 65.0 65.0     l -5.0 5.0 10 10 5.0 -5.0     l 0 -20 -65.0 -65.0     c -5.0 -5.0 -5.0 -15.0 0 -20     l 65.0 -65.0     Z \" style=\"fill:#11337C;\"/>\n",
       "        \n",
       "\n",
       "        <path d=\"     M 200.0 0      l 75.0 75.0     c 10 10 10 30 0 40     l -65.0 65.0     l 5.0 5.0 -10 10 -5.0 -5.0     l 0 -20 65.0 -65.0     c 5.0 -5.0 5.0 -15.0 0 -20     l -65.0 -65.0     Z \" style=\"fill:#11337C;\"/>\n",
       "        \n",
       "\n",
       "        <path d=\"     M 200.0 400      l -75.0 -75.0     c -10 -10 -10 -30 0 -40     l 65.0 -65.0     l -5.0 -5.0 10 -10 5.0 5.0     l 0 20 -65.0 65.0     c -5.0 5.0 -5.0 15.0 0 20     l 65.0 65.0     Z \" style=\"fill:#11337C;\"/>\n",
       "        \n",
       "\n",
       "        <path d=\"     M 200.0 400      l 75.0 -75.0     c 10 -10 10 -30 0 -40     l -65.0 -65.0     l 5.0 -5.0 -10 -10 -5.0 5.0     l 0 20 65.0 65.0     c 5.0 5.0 5.0 15.0 0 20     l -65.0 65.0     Z \" style=\"fill:#11337C;\"/>\n",
       "        \n",
       "\n",
       "</svg>"
      ],
      "text/plain": [
       "<IPython.core.display.SVG object>"
      ]
     },
     "metadata": {},
     "output_type": "display_data"
    }
   ],
   "source": [
    "# down\n",
    "diamond.add_shape(Shape('path', d=f\"\"\"\n",
    "    M {MWIDTH/2} {MWIDTH} \n",
    "    l {-arm2} {-arm2}\n",
    "    c {-D} {-D} {0-D} {-4*D+D} {0} -{4*D}\n",
    "    l {arm3} {-arm3}\n",
    "    l {-D/2} {-D/2} {D} {-D} {D/2} {D/2}\n",
    "    l {0} {2*D} {-arm3} {arm3}\n",
    "    c {-D/2} {D/2} {0-D/2} {2*D-D/2} {0} {2*D}\n",
    "    l {arm3} {arm3}\n",
    "    Z\n",
    "\"\"\", style=Style(fill=COLOR)))\n",
    "\n",
    "diamond.add_shape(Shape('path', d=f\"\"\"\n",
    "    M {MWIDTH/2} {MWIDTH} \n",
    "    l {arm2} {-arm2}\n",
    "    c {D} {-D} {0+D} {-4*D+D} {0} -{4*D}\n",
    "    l {-arm3} {-arm3}\n",
    "    l {D/2} {-D/2} {-D} {-D} {-D/2} {D/2}\n",
    "    l {0} {2*D} {arm3} {arm3}\n",
    "    c {D/2} {D/2} {0+D/2} {2*D-D/2} {0} {2*D}\n",
    "    l {-arm3} {arm3}\n",
    "    Z\n",
    "\"\"\", style=Style(fill=COLOR)))\n",
    "display(diamond)"
   ]
  },
  {
   "cell_type": "code",
   "execution_count": 9,
   "metadata": {},
   "outputs": [
    {
     "data": {
      "image/svg+xml": [
       "<svg height=\"400\" version=\"1.1\" width=\"400\" xmlns=\"http://www.w3.org/2000/svg\">\n",
       "\n",
       "        \n",
       "        <path d=\"     M 200.0 0      l -75.0 75.0     c -10 10 -10 30 0 40     l 65.0 65.0     l -5.0 5.0 10 10 5.0 -5.0     l 0 -20 -65.0 -65.0     c -5.0 -5.0 -5.0 -15.0 0 -20     l 65.0 -65.0     Z \" style=\"fill:#11337C;\"/>\n",
       "        \n",
       "\n",
       "        <path d=\"     M 200.0 0      l 75.0 75.0     c 10 10 10 30 0 40     l -65.0 65.0     l 5.0 5.0 -10 10 -5.0 -5.0     l 0 -20 65.0 -65.0     c 5.0 -5.0 5.0 -15.0 0 -20     l -65.0 -65.0     Z \" style=\"fill:#11337C;\"/>\n",
       "        \n",
       "\n",
       "        <path d=\"     M 200.0 400      l -75.0 -75.0     c -10 -10 -10 -30 0 -40     l 65.0 -65.0     l -5.0 -5.0 10 -10 5.0 5.0     l 0 20 -65.0 65.0     c -5.0 5.0 -5.0 15.0 0 20     l 65.0 65.0     Z \" style=\"fill:#11337C;\"/>\n",
       "        \n",
       "\n",
       "        <path d=\"     M 200.0 400      l 75.0 -75.0     c 10 -10 10 -30 0 -40     l -65.0 -65.0     l 5.0 -5.0 -10 -10 -5.0 5.0     l 0 20 65.0 65.0     c 5.0 5.0 5.0 15.0 0 20     l -65.0 65.0     Z \" style=\"fill:#11337C;\"/>\n",
       "        \n",
       "\n",
       "        <path d=\"     M 0 200.0      l 75.0 -75.0     c 10 -10 30 -10 40 0     l 65.0 65.0     l 5.0 -5.0 10 10 -5.0 5.0     l -20 0 -65.0 -65.0     c -5.0 -5.0 -15.0 -5.0 -20 0     l -65.0 65.0     Z \" style=\"fill:#11337C;\"/>\n",
       "        \n",
       "\n",
       "        <path d=\"     M 0 200.0      l 75.0 75.0     c 10 10 30 10 40 0     l 65.0 -65.0     l 5.0 5.0 10 -10 -5.0 -5.0     l -20 0 -65.0 65.0     c -5.0 5.0 -15.0 5.0 -20 0     l -65.0 -65.0     Z \" style=\"fill:#11337C;\"/>\n",
       "        \n",
       "\n",
       "</svg>"
      ],
      "text/plain": [
       "<IPython.core.display.SVG object>"
      ]
     },
     "metadata": {},
     "output_type": "display_data"
    }
   ],
   "source": [
    "# left\n",
    "diamond.add_shape(Shape('path', d=f\"\"\"\n",
    "    M 0 {MWIDTH/2} \n",
    "    l {arm2} {-arm2}\n",
    "    c {D} {-D} {4*D-D} {0-D} {4*D} {0}\n",
    "    l {arm3} {arm3}\n",
    "    l {D/2} {-D/2} {D} {D} {-D/2} {D/2}\n",
    "    l {-2*D} {0} {-arm3} {-arm3}\n",
    "    c {-D/2} {-D/2} {-2*D+D/2} {0-D/2} {-2*D} {0}\n",
    "    l {-arm3} {arm3}\n",
    "    Z\n",
    "\"\"\", style=Style(fill=COLOR)))\n",
    "\n",
    "diamond.add_shape(Shape('path', d=f\"\"\"\n",
    "    M 0 {MWIDTH/2} \n",
    "    l {arm2} {arm2}\n",
    "    c {D} {D} {4*D-D} {0+D} {4*D} {0}\n",
    "    l {arm3} {-arm3}\n",
    "    l {D/2} {D/2} {D} {-D} {-D/2} {-D/2}\n",
    "    l {-2*D} {0} {-arm3} {arm3}\n",
    "    c {-D/2} {D/2} {-2*D+D/2} {0+D/2} {-2*D} {0}\n",
    "    l {-arm3} {-arm3}\n",
    "    Z\n",
    "\"\"\", style=Style(fill=COLOR)))\n",
    "display(diamond)"
   ]
  },
  {
   "cell_type": "code",
   "execution_count": 10,
   "metadata": {},
   "outputs": [
    {
     "data": {
      "image/svg+xml": [
       "<svg height=\"400\" version=\"1.1\" width=\"400\" xmlns=\"http://www.w3.org/2000/svg\">\n",
       "\n",
       "        \n",
       "        <path d=\"     M 200.0 0      l -75.0 75.0     c -10 10 -10 30 0 40     l 65.0 65.0     l -5.0 5.0 10 10 5.0 -5.0     l 0 -20 -65.0 -65.0     c -5.0 -5.0 -5.0 -15.0 0 -20     l 65.0 -65.0     Z \" style=\"fill:#11337C;\"/>\n",
       "        \n",
       "\n",
       "        <path d=\"     M 200.0 0      l 75.0 75.0     c 10 10 10 30 0 40     l -65.0 65.0     l 5.0 5.0 -10 10 -5.0 -5.0     l 0 -20 65.0 -65.0     c 5.0 -5.0 5.0 -15.0 0 -20     l -65.0 -65.0     Z \" style=\"fill:#11337C;\"/>\n",
       "        \n",
       "\n",
       "        <path d=\"     M 200.0 400      l -75.0 -75.0     c -10 -10 -10 -30 0 -40     l 65.0 -65.0     l -5.0 -5.0 10 -10 5.0 5.0     l 0 20 -65.0 65.0     c -5.0 5.0 -5.0 15.0 0 20     l 65.0 65.0     Z \" style=\"fill:#11337C;\"/>\n",
       "        \n",
       "\n",
       "        <path d=\"     M 200.0 400      l 75.0 -75.0     c 10 -10 10 -30 0 -40     l -65.0 -65.0     l 5.0 -5.0 -10 -10 -5.0 5.0     l 0 20 65.0 65.0     c 5.0 5.0 5.0 15.0 0 20     l -65.0 65.0     Z \" style=\"fill:#11337C;\"/>\n",
       "        \n",
       "\n",
       "        <path d=\"     M 0 200.0      l 75.0 -75.0     c 10 -10 30 -10 40 0     l 65.0 65.0     l 5.0 -5.0 10 10 -5.0 5.0     l -20 0 -65.0 -65.0     c -5.0 -5.0 -15.0 -5.0 -20 0     l -65.0 65.0     Z \" style=\"fill:#11337C;\"/>\n",
       "        \n",
       "\n",
       "        <path d=\"     M 0 200.0      l 75.0 75.0     c 10 10 30 10 40 0     l 65.0 -65.0     l 5.0 5.0 10 -10 -5.0 -5.0     l -20 0 -65.0 65.0     c -5.0 5.0 -15.0 5.0 -20 0     l -65.0 -65.0     Z \" style=\"fill:#11337C;\"/>\n",
       "        \n",
       "\n",
       "        <path d=\"     M 400 200.0      l -75.0 -75.0     c -10 -10 -30 -10 -40 0     l -65.0 65.0     l -5.0 -5.0 -10 10 5.0 5.0     l 20 0 65.0 -65.0     c 5.0 -5.0 15.0 -5.0 20 0     l 65.0 65.0     Z \" style=\"fill:#11337C;\"/>\n",
       "        \n",
       "\n",
       "        <path d=\"     M 400 200.0      l -75.0 75.0     c -10 10 -30 10 -40 0     l -65.0 -65.0     l -5.0 5.0 -10 -10 5.0 -5.0     l 20 0 65.0 65.0     c 5.0 5.0 15.0 5.0 20 0     l 65.0 -65.0     Z \" style=\"fill:#11337C;\"/>\n",
       "        \n",
       "\n",
       "</svg>"
      ],
      "text/plain": [
       "<IPython.core.display.SVG object>"
      ]
     },
     "metadata": {},
     "output_type": "display_data"
    }
   ],
   "source": [
    "# right\n",
    "diamond.add_shape(Shape('path', d=f\"\"\"\n",
    "    M {MWIDTH} {MWIDTH/2} \n",
    "    l {-arm2} {-arm2}\n",
    "    c {-D} {-D} {-4*D+D} {0-D} {-4*D} {0}\n",
    "    l {-arm3} {arm3}\n",
    "    l {-D/2} {-D/2} {-D} {D} {D/2} {D/2}\n",
    "    l {2*D} {0} {arm3} {-arm3}\n",
    "    c {D/2} {-D/2} {2*D-D/2} {0-D/2} {2*D} {0}\n",
    "    l {arm3} {arm3}\n",
    "    Z\n",
    "\"\"\", style=Style(fill=COLOR)))\n",
    "\n",
    "diamond.add_shape(Shape('path', d=f\"\"\"\n",
    "    M {MWIDTH} {MWIDTH/2} \n",
    "    l {-arm2} {arm2}\n",
    "    c {-D} {D} {-4*D+D} {0+D} {-4*D} {0}\n",
    "    l {-arm3} {-arm3}\n",
    "    l {-D/2} {D/2} {-D} {-D} {D/2} {-D/2}\n",
    "    l {2*D} {0} {arm3} {arm3}\n",
    "    c {D/2} {D/2} {2*D-D/2} {0+D/2} {2*D} {0}\n",
    "    l {arm3} {-arm3}\n",
    "    Z\n",
    "\"\"\", style=Style(fill=COLOR)))\n",
    "display(diamond)"
   ]
  },
  {
   "cell_type": "code",
   "execution_count": 11,
   "metadata": {},
   "outputs": [
    {
     "data": {
      "image/svg+xml": [
       "<svg height=\"400\" version=\"1.1\" width=\"400\" xmlns=\"http://www.w3.org/2000/svg\">\n",
       "\n",
       "        \n",
       "        <path d=\"     M 200.0 0      l -75.0 75.0     c -10 10 -10 30 0 40     l 65.0 65.0     l -5.0 5.0 10 10 5.0 -5.0     l 0 -20 -65.0 -65.0     c -5.0 -5.0 -5.0 -15.0 0 -20     l 65.0 -65.0     Z \" style=\"fill:#11337C;\"/>\n",
       "        \n",
       "\n",
       "        <path d=\"     M 200.0 0      l 75.0 75.0     c 10 10 10 30 0 40     l -65.0 65.0     l 5.0 5.0 -10 10 -5.0 -5.0     l 0 -20 65.0 -65.0     c 5.0 -5.0 5.0 -15.0 0 -20     l -65.0 -65.0     Z \" style=\"fill:#11337C;\"/>\n",
       "        \n",
       "\n",
       "        <path d=\"     M 200.0 400      l -75.0 -75.0     c -10 -10 -10 -30 0 -40     l 65.0 -65.0     l -5.0 -5.0 10 -10 5.0 5.0     l 0 20 -65.0 65.0     c -5.0 5.0 -5.0 15.0 0 20     l 65.0 65.0     Z \" style=\"fill:#11337C;\"/>\n",
       "        \n",
       "\n",
       "        <path d=\"     M 200.0 400      l 75.0 -75.0     c 10 -10 10 -30 0 -40     l -65.0 -65.0     l 5.0 -5.0 -10 -10 -5.0 5.0     l 0 20 65.0 65.0     c 5.0 5.0 5.0 15.0 0 20     l -65.0 65.0     Z \" style=\"fill:#11337C;\"/>\n",
       "        \n",
       "\n",
       "        <path d=\"     M 0 200.0      l 75.0 -75.0     c 10 -10 30 -10 40 0     l 65.0 65.0     l 5.0 -5.0 10 10 -5.0 5.0     l -20 0 -65.0 -65.0     c -5.0 -5.0 -15.0 -5.0 -20 0     l -65.0 65.0     Z \" style=\"fill:#11337C;\"/>\n",
       "        \n",
       "\n",
       "        <path d=\"     M 0 200.0      l 75.0 75.0     c 10 10 30 10 40 0     l 65.0 -65.0     l 5.0 5.0 10 -10 -5.0 -5.0     l -20 0 -65.0 65.0     c -5.0 5.0 -15.0 5.0 -20 0     l -65.0 -65.0     Z \" style=\"fill:#11337C;\"/>\n",
       "        \n",
       "\n",
       "        <path d=\"     M 400 200.0      l -75.0 -75.0     c -10 -10 -30 -10 -40 0     l -65.0 65.0     l -5.0 -5.0 -10 10 5.0 5.0     l 20 0 65.0 -65.0     c 5.0 -5.0 15.0 -5.0 20 0     l 65.0 65.0     Z \" style=\"fill:#11337C;\"/>\n",
       "        \n",
       "\n",
       "        <path d=\"     M 400 200.0      l -75.0 75.0     c -10 10 -30 10 -40 0     l -65.0 -65.0     l -5.0 5.0 -10 -10 5.0 -5.0     l 20 0 65.0 65.0     c 5.0 5.0 15.0 5.0 20 0     l 65.0 -65.0     Z \" style=\"fill:#11337C;\"/>\n",
       "        \n",
       "\n",
       "        <path d=\"     M 200.0 0     l 0 20     m 0 150.0     l 0 20      M 200.0 400     l 0 -20     m 0 -150.0     l 0 -20 \" fill=\"none\" stroke=\"#11337C\"/>\n",
       "        \n",
       "\n",
       "        <path d=\"     M 0 200.0     l 20 0     m 150.0 0     l 20 0      M 400 200.0     l -20 0     m -150.0 0     l -20 0 \" fill=\"none\" stroke=\"#11337C\"/>\n",
       "        \n",
       "\n",
       "        <path d=\"     M 200.0 200.0     m -5.0 -5.0     l -10 -10      M 200.0 200.0     m 5.0 -5.0     l 10 -10      M 200.0 200.0     m -5.0 5.0     l -10 10      M 200.0 200.0     m 5.0 5.0     l 10 10 \" fill=\"none\" stroke=\"#11337C\"/>\n",
       "        \n",
       "\n",
       "</svg>"
      ],
      "text/plain": [
       "<IPython.core.display.SVG object>"
      ]
     },
     "metadata": {},
     "output_type": "display_data"
    }
   ],
   "source": [
    "# gaps between each two of the above\n",
    "diamond.add_shape(Shape('path', d=f\"\"\"\n",
    "    M {MWIDTH/2} 0\n",
    "    l {0} {2*D}\n",
    "    m {0} {2*arm2}\n",
    "    l {0} {2*D}\n",
    "\n",
    "    M {MWIDTH/2} {MWIDTH}\n",
    "    l {0} {-2*D}\n",
    "    m {0} {-2*arm2}\n",
    "    l {0} {-2*D}\n",
    "\"\"\", stroke=f\"{COLOR}\", fill=\"none\"))\n",
    "\n",
    "diamond.add_shape(Shape('path', d=f\"\"\"\n",
    "    M 0 {MWIDTH/2}\n",
    "    l {2*D} 0\n",
    "    m {2*arm2} 0\n",
    "    l {2*D} 0\n",
    "\n",
    "    M {MWIDTH} {MWIDTH/2}\n",
    "    l {-2*D} 0\n",
    "    m {-2*arm2} 0\n",
    "    l {-2*D} 0\n",
    "\"\"\", stroke=f\"{COLOR}\", fill=\"none\"))\n",
    "\n",
    "diamond.add_shape(Shape('path', d=f\"\"\"\n",
    "    M {MWIDTH/2} {MWIDTH/2}\n",
    "    m {-D/2} {-D/2}\n",
    "    l {-D} {-D}\n",
    "\n",
    "    M {MWIDTH/2} {MWIDTH/2}\n",
    "    m {D/2} {-D/2}\n",
    "    l {D} {-D}\n",
    "\n",
    "    M {MWIDTH/2} {MWIDTH/2}\n",
    "    m {-D/2} {D/2}\n",
    "    l {-D} {D}\n",
    "\n",
    "    M {MWIDTH/2} {MWIDTH/2}\n",
    "    m {D/2} {D/2}\n",
    "    l {D} {D}\n",
    "\"\"\", stroke=f\"{COLOR}\", fill=\"none\"))\n",
    "display(diamond)"
   ]
  },
  {
   "cell_type": "code",
   "execution_count": null,
   "metadata": {},
   "outputs": [],
   "source": []
  }
 ],
 "metadata": {
  "kernelspec": {
   "display_name": "Python 3",
   "language": "python",
   "name": "python3"
  },
  "language_info": {
   "codemirror_mode": {
    "name": "ipython",
    "version": 3
   },
   "file_extension": ".py",
   "mimetype": "text/x-python",
   "name": "python",
   "nbconvert_exporter": "python",
   "pygments_lexer": "ipython3",
   "version": "3.7.1"
  }
 },
 "nbformat": 4,
 "nbformat_minor": 2
}
